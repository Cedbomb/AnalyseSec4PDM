{
 "cells": [
  {
   "cell_type": "markdown",
   "metadata": {
    "id": "eThnH-wW8vmD"
   },
   "source": [
    "---\n",
    "format : html\n",
    "echo : False\n",
    "---\n",
    "\n",
    "# Analyse PDM"
   ]
  },
  {
   "cell_type": "markdown",
   "metadata": {
    "id": "pPiRzx_zSmMN"
   },
   "source": [
    "**Présentation des résultats de l'examen du MELS pour la PDM.**\n",
    "\n"
   ]
  },
  {
   "cell_type": "code",
   "execution_count": null,
   "metadata": {},
   "outputs": [],
   "source": [
    "from datetime import datetime\n",
    "from IPython.display import display, Markdown\n",
    "\n",
    "current_datetime = datetime.now().strftime('%d/%m/%Y %H:%M')\n",
    "display(Markdown(f\"Rapport produit par Cédric Lejeune, CP Mathématiques Secondaire CSSLaurentides le {current_datetime}\"))"
   ]
  },
  {
   "cell_type": "markdown",
   "metadata": {
    "id": "0mXujXyJWjxy"
   },
   "source": [
    "**Introduction**\n",
    "\n",
    "Analyse des résultats des différentes épreuves en math CST secondaire 4 de la PDM de l'année à la lumière des résultats de l'examen du MELS.\n",
    "\n",
    "Objectif : Réguler les différentes évaluations de l'année.\n",
    "\n",
    "Notes sur les données : Seul les élèves ayant fait l'examen du MELS ont été retenus dans les analyses."
   ]
  },
  {
   "cell_type": "code",
   "execution_count": 1,
   "metadata": {
    "id": "9c8b23fa"
   },
   "outputs": [],
   "source": [
    "import pandas as pd\n",
    "\n",
    "# Try two possible file paths for the data\n",
    "try:\n",
    "    file_path = '/content/drive/MyDrive/Travail/AnalyseSec4PDM/data_sansnoms.csv'\n",
    "    df = pd.read_csv(file_path, encoding='cp1252', sep=';')\n",
    "except (FileNotFoundError, OSError):\n",
    "    file_path = 'data_sansnoms.csv'\n",
    "    df = pd.read_csv(file_path, encoding='cp1252', sep=';')\n",
    "\n",
    "# ...existing code for df_scores and cleaning...\n",
    "df_scores = df[['Groupe', 'C2 Final École', 'C2 Final Modérée', 'Examen MELS']].copy()\n",
    "\n",
    "# Identify and replace non-numeric values with NaN\n",
    "df_scores['C2 Final École'] = df_scores['C2 Final École'].replace(['#VALEUR!', 'NE'], pd.NA)\n",
    "df_scores['C2 Final Modérée'] = df_scores['C2 Final Modérée'].replace(['#VALEUR!', 'NE'], pd.NA)\n",
    "df_scores['Examen MELS'] = df_scores['Examen MELS'].replace(['#VALEUR!', 'NE'], pd.NA)\n",
    "\n",
    "# Convert columns to numeric, coercing errors to NaN\n",
    "df_scores['C2 Final École'] = pd.to_numeric(df_scores['C2 Final École'], errors='coerce')\n",
    "df_scores['C2 Final Modérée'] = pd.to_numeric(df_scores['C2 Final Modérée'], errors='coerce')\n",
    "df_scores['Examen MELS'] = pd.to_numeric(df_scores['Examen MELS'], errors='coerce')\n",
    "\n",
    "# Drop rows with NaN values in the score columns\n",
    "df_scores.dropna(subset=['C2 Final École', 'C2 Final Modérée', 'Examen MELS'], inplace=True)\n",
    "\n",
    "df_melted = df_scores.melt(id_vars=['Groupe'], var_name='Score Type', value_name='Score')\n"
   ]
  },
  {
   "cell_type": "code",
   "execution_count": null,
   "metadata": {},
   "outputs": [],
   "source": [
    "# Calcul des pourcentages de passage et de vulnérabilité\n",
    "scores = df_scores['Examen MELS'].dropna()\n",
    "\n",
    "# Pourcentage d'élèves ayant obtenu la note de passage (> 60)\n",
    "pourcentage_passage = round((scores[scores > 60].count() / scores.count()),4) * 100 if scores.count() > 0 else 0\n",
    "\n",
    "# Pourcentage d'élèves hors de la zone de vulnérabilité (> 75)\n",
    "pourcentage_vulnerabilite = round((scores[scores > 75].count() / scores.count()),4) * 100 if scores.count() > 0 else 0\n"
   ]
  },
  {
   "cell_type": "code",
   "execution_count": null,
   "metadata": {},
   "outputs": [],
   "source": [
    "# Distribution des résultats de l'examen du MELS par groupe\n",
    "\n",
    "\n",
    "# Create and display the dynamic Markdown\n",
    "display(Markdown(f\"{pourcentage_vulnerabilite}% des élèves se situent hors de la zone de vulnérabilité.\"))\n",
    "display(Markdown(f\"{pourcentage_passage}% des élèves se ont obtenus la note de passage.\"))\n"
   ]
  },
  {
   "cell_type": "code",
   "execution_count": 2,
   "metadata": {
    "colab": {
     "base_uri": "https://localhost:8080/",
     "height": 542
    },
    "executionInfo": {
     "elapsed": 1823,
     "status": "ok",
     "timestamp": 1756150343655,
     "user": {
      "displayName": "cedric lejeune",
      "userId": "15788733599552856704"
     },
     "user_tz": 240
    },
    "id": "a6202f1e",
    "outputId": "2b8020af-2e8f-4989-d646-3d874bedfb92"
   },
   "outputs": [
    {
     "ename": "ModuleNotFoundError",
     "evalue": "No module named 'plotly'",
     "output_type": "error",
     "traceback": [
      "\u001b[31m---------------------------------------------------------------------------\u001b[39m",
      "\u001b[31mModuleNotFoundError\u001b[39m                       Traceback (most recent call last)",
      "\u001b[36mCell\u001b[39m\u001b[36m \u001b[39m\u001b[32mIn[2]\u001b[39m\u001b[32m, line 3\u001b[39m\n\u001b[32m      1\u001b[39m \u001b[38;5;66;03m# Histogramme des résultats de l'examn du MELS\u001b[39;00m\n\u001b[32m----> \u001b[39m\u001b[32m3\u001b[39m \u001b[38;5;28;01mimport\u001b[39;00m\u001b[38;5;250m \u001b[39m\u001b[34;01mplotly\u001b[39;00m\u001b[34;01m.\u001b[39;00m\u001b[34;01mgraph_objects\u001b[39;00m\u001b[38;5;250m \u001b[39m\u001b[38;5;28;01mas\u001b[39;00m\u001b[38;5;250m \u001b[39m\u001b[34;01mgo\u001b[39;00m\n\u001b[32m      4\u001b[39m \u001b[38;5;28;01mimport\u001b[39;00m\u001b[38;5;250m \u001b[39m\u001b[34;01mplotly\u001b[39;00m\u001b[34;01m.\u001b[39;00m\u001b[34;01mfigure_factory\u001b[39;00m\u001b[38;5;250m \u001b[39m\u001b[38;5;28;01mas\u001b[39;00m\u001b[38;5;250m \u001b[39m\u001b[34;01mff\u001b[39;00m\n\u001b[32m      5\u001b[39m \u001b[38;5;28;01mimport\u001b[39;00m\u001b[38;5;250m \u001b[39m\u001b[34;01mpandas\u001b[39;00m\u001b[38;5;250m \u001b[39m\u001b[38;5;28;01mas\u001b[39;00m\u001b[38;5;250m \u001b[39m\u001b[34;01mpd\u001b[39;00m\n",
      "\u001b[31mModuleNotFoundError\u001b[39m: No module named 'plotly'"
     ]
    }
   ],
   "source": [
    "# Histogramme des résultats de l'examn du MELS\n",
    "\n",
    "import plotly.graph_objects as go\n",
    "import plotly.figure_factory as ff\n",
    "import pandas as pd\n",
    "import numpy as np\n",
    "from scipy.stats import gaussian_kde\n",
    "import plotly # Import the top-level plotly module\n",
    "\n",
    "\n",
    "# Ensure 'Score' and 'Groupe' are valid and drop NaNs\n",
    "df_melted_filtered = df_melted.dropna(subset=['Score', 'Groupe']).copy()\n",
    "\n",
    "# Filter to include only 'Examen MELS' scores\n",
    "df_melted_filtered = df_melted_filtered[df_melted_filtered['Score Type'] == 'Examen MELS'].copy()\n",
    "\n",
    "\n",
    "# Create traces for each group's histogram and density curve, and the overall histogram and density curve\n",
    "traces = []\n",
    "\n",
    "# Define bin settings\n",
    "bin_settings = dict(start=0, end=100, size=5) # Bins from 0 to 100 with size 5 (20 bins)\n",
    "\n",
    "# Add overall histogram trace\n",
    "overall_hist = go.Histogram(x=df_melted_filtered['Score'],\n",
    "                           xbins=bin_settings,\n",
    "                           name='All Groups (Histogram)',\n",
    "                           marker_color='gray',\n",
    "                           opacity=1.0, # Full opacity for selected view\n",
    "                           marker_line=dict(width=1, color='black'),\n",
    "                           visible=True) # Visible by default\n",
    "traces.append(overall_hist)\n",
    "\n",
    "\n",
    "# Add histogram traces for each group\n",
    "colors = plotly.colors.qualitative.Plotly # Use a color sequence\n",
    "groups = sorted(df_melted_filtered['Groupe'].unique()) # Sort groups alphabetically\n",
    "for i, group in enumerate(groups):\n",
    "    group_data = df_melted_filtered[df_melted_filtered['Groupe'] == group]\n",
    "    color = colors[i % len(colors)]\n",
    "\n",
    "    # Add histogram trace for the group\n",
    "    traces.append(go.Histogram(x=group_data['Score'],\n",
    "                               xbins=bin_settings,\n",
    "                               name=f'Groupe {group} (Histogram)',\n",
    "                               marker_color=color,\n",
    "                               opacity=1.0, # Full opacity for selected view\n",
    "                               marker_line=dict(width=1, color='black'),\n",
    "                               visible=False)) # Hidden by default\n",
    "\n",
    "# Add vertical line trace (initially at 60)\n",
    "initial_line_x = 60\n",
    "\n",
    "# Create the figure\n",
    "fig = go.Figure(data=traces)\n",
    "all_group = True # Set all_group to True to display dropdown menu\n",
    "# Create buttons for updatemenus\n",
    "buttons = [\n",
    "    dict(label='All Groups',\n",
    "         method='update',\n",
    "         # Find the indices of the 'All Groups' histogram and density traces\n",
    "         args=[{'visible': [t.name == 'All Groups (Histogram)' for t in traces]}, # Show All Groups histogram, hide others\n",
    "               {'title': 'Distribution des Scores (Tous Groupes)'}]) # Update title\n",
    "]\n",
    "\n",
    "# Add buttons for each group if all_group is True\n",
    "if all_group:\n",
    "    # Need to ensure the order of visibility corresponds to the sorted groups\n",
    "    group_names = sorted(df_melted_filtered['Groupe'].unique()) # Get sorted group names again for indexing\n",
    "    for i, group in enumerate(group_names):\n",
    "        group_traces_visibility = [False] * len(traces) # Start with all hidden\n",
    "\n",
    "        # Find the index of the current group's histogram trace\n",
    "        hist_trace_index = traces.index(next(t for t in traces if t.name == f'Groupe {group} (Histogram)'))\n",
    "        group_traces_visibility[hist_trace_index] = True # Set the current group's histogram trace to visible\n",
    "\n",
    "        buttons.append(dict(label=f'Groupe {group}',\n",
    "                            method='update',\n",
    "                            args=[{'visible': group_traces_visibility},\n",
    "                                  {'title': f'Distribution des résultat de l\\'examen du MELS (Groupe {group})'}])) # Update title\n",
    "\n",
    "# Calculate initial percentages and counts\n",
    "total_scores = len(df_melted_filtered)\n",
    "scores_less_than_initial = df_melted_filtered[df_melted_filtered['Score'] < initial_line_x].shape[0]\n",
    "scores_greater_than_initial = df_melted_filtered[df_melted_filtered['Score'] >= initial_line_x].shape[0]\n",
    "percentage_less_than_initial = (scores_less_than_initial / total_scores) * 100 if total_scores > 0 else 0\n",
    "percentage_greater_than_initial = (scores_greater_than_initial / total_scores) * 100 if total_scores > 0 else 0\n",
    "\n",
    "\n",
    "# Add annotations for percentages and counts\n",
    "annotations = [\n",
    "    dict(\n",
    "        text=f'{percentage_less_than_initial:.2f}% ({scores_less_than_initial}) < {initial_line_x}',\n",
    "        x=initial_line_x, # Set x position to the threshold value\n",
    "        y=1.05, # Adjust y position relative to the top of the plot\n",
    "        xref='x', # Use x-axis as reference\n",
    "        yref='paper', # Use paper as reference for y (relative to the plot)\n",
    "        showarrow=False,\n",
    "        font=dict(color=\"blue\", size=12),\n",
    "        xanchor='right' # Anchor to the right of the text\n",
    "    ),\n",
    "    dict(\n",
    "        text=f'{percentage_greater_than_initial:.2f}% ({scores_greater_than_initial}) >= {initial_line_x}',\n",
    "        x=initial_line_x, # Set x position to the threshold value\n",
    "        y=1.05, # Adjust y position relative to the top of the plot\n",
    "        xref='x', # Use x-axis as reference\n",
    "        yref='paper', # Use paper as reference for y (relative to the plot)\n",
    "        showarrow=False,\n",
    "        font=dict(color=\"blue\", size=12),\n",
    "        xanchor='left' # Anchor to the left of the text\n",
    "    )\n",
    "]\n",
    "\n",
    "\n",
    "# Add a slider to the layout\n",
    "steps = []\n",
    "for i in range(0, 101): # Slider from 0 to 100\n",
    "\n",
    "    # Calculate percentages and counts for the current threshold\n",
    "    scores_less_than = df_melted_filtered[df_melted_filtered['Score'] < i].shape[0]\n",
    "    scores_greater_than = df_melted_filtered[df_melted_filtered['Score'] >= i].shape[0]\n",
    "    percentage_less_than = (scores_less_than / total_scores) * 100 if total_scores > 0 else 0\n",
    "    percentage_greater_than = (scores_greater_than / total_scores) * 100 if total_scores > 0 else 0\n",
    "\n",
    "\n",
    "    step = dict(\n",
    "        method='relayout',\n",
    "        args=[{\n",
    "            'shapes': [{'x0': i, 'x1': i, 'y0': 0, 'y1': 1, 'xref': 'x', 'yref': 'paper'}], # Update vertical line position\n",
    "            'annotations': [ # Update annotations\n",
    "                dict(\n",
    "                    text=f'{percentage_less_than:.2f}% ({scores_less_than}) < {i}',\n",
    "                    x=i, # Set x position to the threshold value\n",
    "                    y=1.05, # Adjust y position relative to the top of the plot\n",
    "                    xref='x', # Use x-axis as reference\n",
    "                    yref='paper', # Use paper as reference for y (relative to the plot)\n",
    "                    showarrow=False,\n",
    "                    font=dict(color=\"blue\", size=12),\n",
    "                    xanchor='right'\n",
    "                ),\n",
    "                dict(\n",
    "                    text=f'{percentage_greater_than:.2f}% ({scores_greater_than}) >= {i}',\n",
    "                    x=i, # Set x position to the threshold value\n",
    "                    y=1.05, # Adjust y position relative to the top of the plot\n",
    "                    xref='x', # Use x-axis as reference\n",
    "                    yref='paper', # Use paper as reference for y (relative to the plot)\n",
    "                    showarrow=False,\n",
    "                    font=dict(color=\"blue\", size=12),\n",
    "                    xanchor='left'\n",
    "                )\n",
    "            ]\n",
    "        }],\n",
    "        label=str(i)\n",
    "    )\n",
    "    steps.append(step)\n",
    "\n",
    "sliders = [dict(\n",
    "    active=60, # Initial position at 60\n",
    "    steps=steps,\n",
    "    pad={\"t\": 50}, # Add padding at the top\n",
    "    currentvalue={\"prefix\": \"Threshold: \"} # Add a prefix to the current value display\n",
    ")]\n",
    "\n",
    "# Create updatemenu based on all_group\n",
    "updatemenus = []\n",
    "if all_group:\n",
    "    updatemenus=[\n",
    "        dict(\n",
    "            type='dropdown',\n",
    "            direction='down',\n",
    "            x=1.0, # Set x to 1 for right alignment\n",
    "            y=1.15, # Keep y slightly above the plot for the dropdown\n",
    "            xanchor='right', # Anchor the dropdown to the right\n",
    "            yanchor='top', # Anchor the dropdown to the top\n",
    "            showactive=True,\n",
    "            buttons=buttons\n",
    "        )\n",
    "    ]\n",
    "\n",
    "\n",
    "# Update layout with updatemenus, slider, and initial annotations\n",
    "fig.update_layout(\n",
    "    updatemenus=updatemenus,\n",
    "    sliders=sliders,\n",
    "    title_text='Distribution des Scores (Tous Groupes)', # Initial title\n",
    "    xaxis_title='Score',\n",
    "    yaxis_title='Nombre d\\'occurrences', # Changed y-axis title to Number of occurrences\n",
    "    xaxis=dict(range=[0, 100], tickmode='linear', tick0=0, dtick=10),\n",
    "    # Remove fixed y-axis range to allow Plotly to autoscale\n",
    "    # yaxis=dict(range=[0, max_density_estimate * 1.2]), # Removed\n",
    "    template='plotly_white',\n",
    "    font=dict(family=\"sans-serif\", size=12, color=\"#000\"),\n",
    "    annotations=annotations # Add initial annotations to the layout\n",
    "    )\n",
    "\n",
    "# Add initial vertical line shape\n",
    "fig.add_shape(type=\"line\",\n",
    "              x0=initial_line_x, y0=0, x1=initial_line_x, y1=1,\n",
    "              xref='x', yref='paper',\n",
    "              line=dict(color=\"blue\", width=2, dash=\"dash\"))\n",
    "\n",
    "\n",
    "# Show the interactive plot\n",
    "fig.show() # Removed renderer=\"colab\""
   ]
  },
  {
   "cell_type": "code",
   "execution_count": null,
   "metadata": {
    "colab": {
     "base_uri": "https://localhost:8080/",
     "height": 1000
    },
    "executionInfo": {
     "elapsed": 3571,
     "status": "ok",
     "timestamp": 1756133899208,
     "user": {
      "displayName": "cedric lejeune",
      "userId": "15788733599552856704"
     },
     "user_tz": 240
    },
    "id": "ebe06a97",
    "outputId": "31407c9d-6057-4894-d78b-309d36f91b6c"
   },
   "outputs": [],
   "source": [
    "# @title Default title text\n",
    "import seaborn as sns\n",
    "import matplotlib.pyplot as plt\n",
    "import pandas as pd\n",
    "\n",
    "# Recreate df_selected_columns and calculate the correlation matrix\n",
    "columns_to_keep = [col for col in df.columns if 'C1' not in col and col != 'Groupe' and col != 'Fiche']\n",
    "df_selected_columns = df[columns_to_keep].copy()\n",
    "\n",
    "for col in df_selected_columns.columns:\n",
    "    df_selected_columns[col] = pd.to_numeric(df_selected_columns[col], errors='coerce')\n",
    "\n",
    "correlation_matrix = df_selected_columns.corr()\n",
    "\n",
    "# Identify the columns from the second correlation matrix\n",
    "columns_from_corr_matrix = correlation_matrix.columns.tolist()\n",
    "\n",
    "# Identify columns to exclude\n",
    "excluded_columns = ['C2 Final École', 'C2 Final Modérée', 'Modération', 'C2 Final Bulletin']\n",
    "\n",
    "# Create a list of feature column names based on the exclusion criteria, keeping only those from the second correlation matrix\n",
    "feature_columns_for_scatter = [col for col in columns_from_corr_matrix if col not in excluded_columns and col != 'Examen MELS']\n",
    "\n",
    "# Create a scatter plot for the difference between Examen MELS and each feature vs. the feature\n",
    "for col in feature_columns_for_scatter:\n",
    "    plt.figure(figsize=(8, 6))\n",
    "\n",
    "    # Select the relevant columns for the current plot and drop rows with NaN\n",
    "    temp_df = df[[col, 'Examen MELS']].copy()\n",
    "    for temp_col in temp_df.columns:\n",
    "        temp_df[temp_col] = pd.to_numeric(temp_df[temp_col], errors='coerce')\n",
    "    temp_df.dropna(inplace=True)\n",
    "\n",
    "    # Calculate the difference\n",
    "    if not temp_df.empty:\n",
    "        temp_df['Difference'] = temp_df['Examen MELS'] - temp_df[col]\n",
    "\n",
    "        sns.scatterplot(data=temp_df, x=col, y='Difference')\n",
    "        plt.title(f'Nuage de Points de la Différence Examen MELS - {col} vs. {col}') # Translated title\n",
    "        plt.xlabel(f'Score {col}') # Translated x-label\n",
    "        plt.ylabel(f'Différence (Examen MELS - {col})') # Translated y-label\n",
    "\n",
    "        # Set x and y axis limits\n",
    "        plt.xlim(0, 100)\n",
    "        plt.ylim(-100, 100) # Adjust y-limit as differences can be negative\n",
    "\n",
    "        # Add horizontal line at y=0\n",
    "        plt.axhline(0, color='gray', linestyle='--')\n",
    "\n",
    "        # Add vertical line at x=60\n",
    "        plt.axvline(60, color='gray', linestyle='--')\n",
    "\n",
    "\n",
    "        plt.show()"
   ]
  },
  {
   "cell_type": "code",
   "execution_count": null,
   "metadata": {
    "id": "296e8cae"
   },
   "outputs": [],
   "source": [
    "for col in feature_columns_for_scatter:\n",
    "    # Select the relevant columns and handle non-numeric values\n",
    "    temp_df = df[[col, 'Examen MELS']].copy()\n",
    "    for temp_col in temp_df.columns:\n",
    "        temp_df[temp_col] = pd.to_numeric(temp_df[temp_col], errors='coerce')\n",
    "    temp_df.dropna(inplace=True)\n",
    "\n",
    "    # Filter data points around (20, 90) - adjust tolerance as needed\n",
    "    # Assuming 'around (20, 90)' means within a certain range of x=20 and y=90\n",
    "    x_tolerance = 10  # Adjust the tolerance for the x-axis (feature score)\n",
    "    y_tolerance = 10  # Adjust the tolerance for the y-axis (Examen MELS score)\n",
    "\n",
    "    filtered_df = temp_df[\n",
    "        (temp_df[col] >= 20 - x_tolerance) & (temp_df[col] <= 20 + x_tolerance) &\n",
    "        (temp_df['Examen MELS'] >= 90 - y_tolerance) & (temp_df['Examen MELS'] <= 90 + y_tolerance)\n",
    "    ].copy()\n",
    "\n",
    "\n",
    "    if not filtered_df.empty:\n",
    "        # Calculate the difference between 'Examen MELS' and the feature score\n",
    "        filtered_df['Difference'] = filtered_df['Examen MELS'] - filtered_df[col]\n",
    "\n",
    "        # Calculate the mean difference\n",
    "        mean_diff = filtered_df['Difference'].mean()\n",
    "\n",
    "        print(f\"Mean difference for {col} vs. Examen MELS around (20, 90): {mean_diff:.2f}\")\n",
    "    else:\n",
    "        print(f\"No data points found for {col} vs. Examen MELS around (20, 90) with the current tolerance.\")"
   ]
  },
  {
   "cell_type": "code",
   "execution_count": null,
   "metadata": {
    "colab": {
     "base_uri": "https://localhost:8080/",
     "height": 211
    },
    "executionInfo": {
     "elapsed": 3340,
     "status": "error",
     "timestamp": 1756150293446,
     "user": {
      "displayName": "cedric lejeune",
      "userId": "15788733599552856704"
     },
     "user_tz": 240
    },
    "id": "d172352d",
    "outputId": "70d0063e-9419-4383-d56a-4f8a2c029b8e"
   },
   "outputs": [],
   "source": [
    "import seaborn as sns\n",
    "import matplotlib.pyplot as plt\n",
    "import numpy as np\n",
    "\n",
    "g = sns.FacetGrid(df_melted, row='Groupe', col='Score Type', height=3)\n",
    "g.map(sns.kdeplot, 'Score', fill=True, bw_adjust=0.35)\n",
    "g.add_legend(title='Groupe')\n",
    "g.fig.suptitle('Distribution des Scores par Groupe et Type de Score (KDE)', y=1.02) # Translated title\n",
    "g.set_axis_labels(\"Score\", \"Densité\") # Translated axis labels\n",
    "g.set(xlim=(0, 100)) # Set x-axis limits to 0 and 100\n",
    "g.set_titles(template='{col_name} - Groupe {row_name}') # Set subplot titles\n",
    "\n",
    "# Add x-axis ticks and labels\n",
    "for ax in g.axes.flat:\n",
    "    ax.set_xticks(np.arange(0, 101, 20)) # Set ticks every 20 units from 0 to 100\n",
    "    ax.set_xticklabels(np.arange(0, 101, 20)) # Set labels for the ticks\n",
    "\n",
    "plt.tight_layout()\n",
    "plt.show()"
   ]
  },
  {
   "cell_type": "code",
   "execution_count": null,
   "metadata": {
    "id": "8ae8a8b4"
   },
   "outputs": [],
   "source": [
    "df_numeric = df.drop('Groupe', axis=1)\n",
    "for col in df_numeric.columns:\n",
    "    df_numeric[col] = pd.to_numeric(df_numeric[col], errors='coerce')\n",
    "\n",
    "correlation_matrix = df_numeric.corr()"
   ]
  },
  {
   "cell_type": "code",
   "execution_count": null,
   "metadata": {
    "id": "80f7dfb0"
   },
   "outputs": [],
   "source": [
    "plt.figure(figsize=(12, 10))\n",
    "sns.heatmap(correlation_matrix, annot=True, cmap='coolwarm', fmt=\".2f\")\n",
    "plt.title('Matrice de Corrélation des Scores') # Translated title\n",
    "plt.show()"
   ]
  },
  {
   "cell_type": "markdown",
   "metadata": {
    "id": "a76d80c7"
   },
   "source": [
    "**Reasoning**:\n",
    "Select columns that do not contain 'C1' and are not 'Groupe', then display the head of the new dataframe.\n",
    "\n"
   ]
  },
  {
   "cell_type": "code",
   "execution_count": null,
   "metadata": {
    "id": "fad416d1"
   },
   "outputs": [],
   "source": [
    "columns_to_keep = [col for col in df.columns if 'C1' not in col and col != 'Groupe' and col != 'Fiche']\n",
    "df_selected_columns = df[columns_to_keep]\n",
    "display(df_selected_columns.head())"
   ]
  },
  {
   "cell_type": "markdown",
   "metadata": {
    "id": "b0ba0e9a"
   },
   "source": [
    "**Reasoning**:\n",
    "Convert all columns in the selected DataFrame to numeric, coercing errors to NaN.\n",
    "\n"
   ]
  },
  {
   "cell_type": "code",
   "execution_count": null,
   "metadata": {
    "id": "7c3bcb0a"
   },
   "outputs": [],
   "source": [
    "for col in df_selected_columns.columns:\n",
    "    df_selected_columns[col] = pd.to_numeric(df_selected_columns[col], errors='coerce')\n",
    "\n",
    "display(df_selected_columns.head())"
   ]
  },
  {
   "cell_type": "markdown",
   "metadata": {
    "id": "226ac9b2"
   },
   "source": [
    "## Calculate correlation\n",
    "\n",
    "### Subtask:\n",
    "Calculate the correlation matrix for the selected numeric columns.\n"
   ]
  },
  {
   "cell_type": "markdown",
   "metadata": {
    "id": "d9cf0a8a"
   },
   "source": [
    "**Reasoning**:\n",
    "Calculate the pairwise correlation of columns in df_selected_columns and store the result in a variable named correlation_matrix.\n",
    "\n"
   ]
  },
  {
   "cell_type": "code",
   "execution_count": null,
   "metadata": {
    "id": "13fce43a"
   },
   "outputs": [],
   "source": [
    "correlation_matrix = df_selected_columns.corr()\n",
    "display(correlation_matrix)"
   ]
  },
  {
   "cell_type": "markdown",
   "metadata": {
    "id": "0f30b5ea"
   },
   "source": [
    "## Visualize correlation\n",
    "\n",
    "### Subtask:\n",
    "Create a heatmap to visualize the correlation matrix.\n"
   ]
  },
  {
   "cell_type": "markdown",
   "metadata": {
    "id": "bcf2dd09"
   },
   "source": [
    "**Reasoning**:\n",
    "Create a heatmap of the correlation matrix to visualize the relationships between the numeric columns, including annotations and a title.\n",
    "\n"
   ]
  },
  {
   "cell_type": "code",
   "execution_count": null,
   "metadata": {
    "id": "0a86044f"
   },
   "outputs": [],
   "source": [
    "plt.figure(figsize=(12, 10))\n",
    "sns.heatmap(correlation_matrix, annot=True, cmap='coolwarm', fmt=\".2f\")\n",
    "plt.title('Matrice de Corrélation des Scores Sélectionnés') # Translated title\n",
    "plt.show()"
   ]
  },
  {
   "cell_type": "code",
   "execution_count": null,
   "metadata": {
    "id": "49573565"
   },
   "outputs": [],
   "source": [
    "from scipy.stats import pearsonr\n",
    "import pandas as pd\n",
    "\n",
    "# Get column names from the correlation matrix\n",
    "columns = correlation_matrix.columns\n",
    "\n",
    "# Create an empty DataFrame to store p-values\n",
    "p_values_matrix = pd.DataFrame(index=columns, columns=columns)\n",
    "\n",
    "# Calculate p-values for each pair of columns\n",
    "for col1 in columns:\n",
    "    for col2 in columns:\n",
    "        # Ensure both columns are in the original df_selected_columns and drop NaNs for the test\n",
    "        temp_df = df_selected_columns[[col1, col2]].dropna()\n",
    "        if len(temp_df) > 2: # Need at least 2 data points for correlation\n",
    "            corr, p_value = pearsonr(temp_df[col1], temp_df[col2])\n",
    "            # Ensure p_value is a scalar before assigning to the DataFrame\n",
    "            p_values_matrix.loc[col1, col2] = p_value if isinstance(p_value, (int, float)) else None\n",
    "        else:\n",
    "            p_values_matrix.loc[col1, col2] = None # Not enough data\n",
    "\n",
    "# Filter the p-value matrix to show only values less than 0.2\n",
    "p_values_matrix_filtered = p_values_matrix.mask(p_values_matrix >= 0.2)\n",
    "\n",
    "display(p_values_matrix_filtered)"
   ]
  },
  {
   "cell_type": "code",
   "execution_count": null,
   "metadata": {
    "id": "09c44797"
   },
   "outputs": [],
   "source": [
    "# Select the relevant columns and handle non-numeric values\n",
    "df_comparison = df[['Examen MELS', 'C2 Final École']].copy()\n",
    "df_comparison['Examen MELS'] = pd.to_numeric(df_comparison['Examen MELS'], errors='coerce')\n",
    "df_comparison['C2 Final École'] = pd.to_numeric(df_comparison['C2 Final École'], errors='coerce')\n",
    "\n",
    "# Drop rows with NaN in either column\n",
    "df_comparison.dropna(inplace=True)\n",
    "\n",
    "# Count rows where 'Examen MELS' is greater than 'C2 Final École'\n",
    "count_greater_mels = df_comparison[df_comparison['Examen MELS'] > df_comparison['C2 Final École']].shape[0]\n",
    "\n",
    "# Calculate the total number of relevant rows\n",
    "total_rows = df_comparison.shape[0]\n",
    "\n",
    "# Calculate the percentage\n",
    "percentage_greater_mels = (count_greater_mels / total_rows) * 100 if total_rows > 0 else 0\n",
    "\n",
    "print(count_greater_mels)\n",
    "print(total_rows)\n",
    "\n",
    "print(f\"Percentage of rows with a greater score in Examen MELS than C2 Final École: {percentage_greater_mels:.2f}%\")"
   ]
  },
  {
   "cell_type": "code",
   "execution_count": null,
   "metadata": {
    "id": "fbd24475"
   },
   "outputs": [],
   "source": [
    "import matplotlib.pyplot as plt\n",
    "import seaborn as sns\n",
    "import numpy as np\n",
    "\n",
    "# Create a mask to hide the diagonal\n",
    "diagonal_mask = np.eye(correlation_matrix.shape[0], dtype=bool)\n",
    "\n",
    "# Create a masked correlation matrix\n",
    "# Mask where p-value is 0.2 or greater OR absolute correlation is less than 0.4 OR it's the diagonal\n",
    "mask_condition = (p_values_matrix >= 0.2) | (abs(correlation_matrix) < 0.4) | diagonal_mask\n",
    "masked_correlation_matrix = correlation_matrix.mask(mask_condition)\n",
    "\n",
    "plt.figure(figsize=(12, 10))\n",
    "sns.heatmap(masked_correlation_matrix, annot=True, cmap='coolwarm', fmt=\".2f\", mask=masked_correlation_matrix.isnull())\n",
    "plt.title('Matrice de Corrélation Significative (valeur p < 0.2 et |corrélation| >= 0.4, diagonale exclue)') # Translated title\n",
    "plt.show()"
   ]
  },
  {
   "cell_type": "code",
   "execution_count": null,
   "metadata": {
    "id": "e26637f2"
   },
   "outputs": [],
   "source": [
    "# Calculate the difference between 'Examen MELS' and 'C2 Final École'\n",
    "df_comparison['Score Difference'] = df_comparison['Examen MELS'] - df_comparison['C2 Final École']\n",
    "\n",
    "# Display the first few rows with the new column\n",
    "display(df_comparison.head())\n",
    "\n",
    "# Plot the distribution of the score difference\n",
    "plt.figure(figsize=(10, 6))\n",
    "min_diff = np.floor(df_comparison['Score Difference'].min() / 5) * 5\n",
    "max_diff = np.ceil(df_comparison['Score Difference'].max() / 5) * 5\n",
    "sns.histplot(data=df_comparison, x='Score Difference', kde=True, bins=np.arange(min_diff, max_diff + 5, 5))\n",
    "plt.title('Distribution de la Différence entre les Scores de l\\'Examen MELS et C2 Final École') # Translated title\n",
    "plt.xlabel('Différence de Score (Examen MELS - C2 Final École)') # Translated x-label\n",
    "plt.ylabel('Fréquence') # Translated y-label\n",
    "plt.show()"
   ]
  },
  {
   "cell_type": "code",
   "execution_count": null,
   "metadata": {
    "id": "e88cfc9f"
   },
   "outputs": [],
   "source": [
    "mean_difference = df_comparison['Score Difference'].mean()\n",
    "print(f\"The mean difference between Examen MELS and C2 Final École scores is: {mean_difference:.2f}\")"
   ]
  },
  {
   "cell_type": "code",
   "execution_count": null,
   "metadata": {
    "id": "8b0e8476"
   },
   "outputs": [],
   "source": [
    "import matplotlib.pyplot as plt\n",
    "import seaborn as sns\n",
    "\n",
    "plt.figure(figsize=(10, 6))\n",
    "sns.scatterplot(data=df_comparison, x='C2 Final École', y='Score Difference')\n",
    "\n",
    "# Add horizontal line at y=0\n",
    "plt.axhline(0, color='gray', linestyle='--')\n",
    "\n",
    "# Add vertical line at x=60\n",
    "plt.axvline(60, color='gray', linestyle='--')\n",
    "\n",
    "plt.title('Différence de Score vs. C2 Final École') # Translated title\n",
    "plt.xlabel('Score C2 Final École') # Translated x-label\n",
    "plt.ylabel('Différence de Score (Examen MELS - C2 Final École)') # Translated y-label\n",
    "plt.show()"
   ]
  },
  {
   "cell_type": "code",
   "execution_count": null,
   "metadata": {
    "id": "22530005"
   },
   "outputs": [],
   "source": [
    "# Select the relevant columns and handle non-numeric values\n",
    "df_evaluation_mels = df[['Evaluation mi-année', 'Examen MELS']].copy()\n",
    "df_evaluation_mels['Evaluation mi-année'] = pd.to_numeric(df_evaluation_mels['Evaluation mi-année'], errors='coerce')\n",
    "df_evaluation_mels['Examen MELS'] = pd.to_numeric(df_evaluation_mels['Examen MELS'], errors='coerce')\n",
    "\n",
    "# Drop rows with NaN in either column\n",
    "df_evaluation_mels.dropna(inplace=True)\n",
    "\n",
    "# Create a scatter plot\n",
    "plt.figure(figsize=(10, 6))\n",
    "sns.scatterplot(data=df_evaluation_mels, x='Evaluation mi-année', y='Examen MELS')\n",
    "plt.title('Nuage de Points de l\\'Examen MELS vs. Évaluation mi-année') # Translated title\n",
    "plt.xlabel('Score Évaluation mi-année') # Translated x-label\n",
    "plt.ylabel('Score Examen MELS') # Translated y-label\n",
    "\n",
    "# Add horizontal line at y=60\n",
    "plt.axhline(60, color='gray', linestyle='--')\n",
    "\n",
    "# Add vertical line at x=60\n",
    "plt.axvline(60, color='gray', linestyle='--')\n",
    "\n",
    "\n",
    "plt.show()"
   ]
  },
  {
   "cell_type": "code",
   "execution_count": null,
   "metadata": {
    "id": "0bfe1b4a"
   },
   "outputs": [],
   "source": [
    "# Identify columns to exclude\n",
    "excluded_columns = ['Groupe', 'C2 Final École', 'C2 Final Modérée', 'Modération', 'C2 Final Bulletin', 'Note finale']\n",
    "\n",
    "# Create a list of feature column names based on the exclusion criteria\n",
    "feature_columns = [col for col in df.columns if col not in excluded_columns and 'C1' not in col]\n",
    "\n",
    "# Create the features DataFrame X\n",
    "X = df[feature_columns].copy()\n",
    "\n",
    "# Create the target Series y\n",
    "y = df['Examen MELS'].copy()\n"
   ]
  },
  {
   "cell_type": "code",
   "execution_count": null,
   "metadata": {
    "id": "1a061a90"
   },
   "outputs": [],
   "source": [
    "rows_greater_than_95 = df_comparison[df_comparison['Score Difference'] > 95]\n",
    "display(rows_greater_than_95)"
   ]
  },
  {
   "cell_type": "code",
   "execution_count": null,
   "metadata": {
    "id": "aff7f0bc"
   },
   "outputs": [],
   "source": [
    "# !wget https://github.com/quarto-dev/quarto-cli/releases/download/v1.7.33/quarto-1.7.33-linux-amd64.deb\n",
    "# !sudo dpkg -i quarto-1.7.33-linux-amd64.deb"
   ]
  },
  {
   "cell_type": "code",
   "execution_count": null,
   "metadata": {
    "id": "e98ad39c"
   },
   "outputs": [],
   "source": [
    "# !quarto render \"/content/drive/MyDrive/Colab Notebooks/AnalyseModerationSec4.ipynb\" \\\n",
    "#   --to html \\\n",
    "#   --embed-resources \\\n",
    "#   --include-in-header <(echo '<script src=\"https://cdn.plot.ly/plotly-2.32.0.min.js\"></script>') > /dev/null 2>&1\n"
   ]
  },
  {
   "cell_type": "code",
   "execution_count": null,
   "metadata": {},
   "outputs": [],
   "source": [
    "# !quarto render \"AnalyseModerationSec4.ipynb\" \\\n",
    "#   --to html \\\n",
    "#   --embed-resources \\\n",
    "#   --include-in-header <(echo '<script src=\"https://cdn.plot.ly/plotly-2.32.0.min.js\"></script>') > /dev/null 2>&1\n",
    "# ! firefox \"AnalyseModerationSec4.html\"\n",
    "\n"
   ]
  },
  {
   "cell_type": "code",
   "execution_count": null,
   "metadata": {},
   "outputs": [],
   "source": [
    "# Install IPython if not already installed\n",
    "# !pip install IPython"
   ]
  }
 ],
 "metadata": {
  "colab": {
   "authorship_tag": "ABX9TyMAu0O/BTgMjYkoDdeFpSwB",
   "mount_file_id": "1TJc3hJunJcfGxdW7eVtGeN8E82lXUCmq",
   "provenance": []
  },
  "kernelspec": {
   "display_name": ".venv",
   "language": "python",
   "name": "python3"
  },
  "language_info": {
   "codemirror_mode": {
    "name": "ipython",
    "version": 3
   },
   "file_extension": ".py",
   "mimetype": "text/x-python",
   "name": "python",
   "nbconvert_exporter": "python",
   "pygments_lexer": "ipython3",
   "version": "3.11.2"
  }
 },
 "nbformat": 4,
 "nbformat_minor": 0
}
